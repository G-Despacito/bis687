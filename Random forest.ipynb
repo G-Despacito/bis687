{
 "cells": [
  {
   "cell_type": "code",
   "execution_count": 56,
   "id": "c96c0038",
   "metadata": {},
   "outputs": [],
   "source": [
    "import pandas as pd\n",
    "import numpy as np\n",
    "import random\n",
    "import statsmodels.api as sm\n",
    "import sklearn\n",
    "import warnings\n",
    "from sklearn.model_selection import train_test_split\n",
    "warnings.simplefilter(action='ignore', category=FutureWarning)\n",
    "warnings.simplefilter(action='ignore', category=RuntimeWarning)"
   ]
  },
  {
   "cell_type": "code",
   "execution_count": 106,
   "id": "5e0605d6",
   "metadata": {
    "scrolled": true
   },
   "outputs": [
    {
     "data": {
      "text/html": [
       "<div>\n",
       "<style scoped>\n",
       "    .dataframe tbody tr th:only-of-type {\n",
       "        vertical-align: middle;\n",
       "    }\n",
       "\n",
       "    .dataframe tbody tr th {\n",
       "        vertical-align: top;\n",
       "    }\n",
       "\n",
       "    .dataframe thead th {\n",
       "        text-align: right;\n",
       "    }\n",
       "</style>\n",
       "<table border=\"1\" class=\"dataframe\">\n",
       "  <thead>\n",
       "    <tr style=\"text-align: right;\">\n",
       "      <th></th>\n",
       "      <th>Unnamed: 0</th>\n",
       "      <th>DQI_score</th>\n",
       "      <th>sex_f31_0_0</th>\n",
       "      <th>number_of_daysweek_of_vigorous_physical_activity_10_minutes_f904_0_0</th>\n",
       "      <th>falls_in_the_last_year_f2296_0_0</th>\n",
       "      <th>frequency_of_tiredness_lethargy_in_last_2_weeks_f2080_0_0</th>\n",
       "      <th>OHR</th>\n",
       "      <th>trunk_fat_percentage_f23127_0_0</th>\n",
       "      <th>arm_fatfree_mass_right_f23121_0_0</th>\n",
       "      <th>arm_fatfree_mass_right_f23121_0_0.1</th>\n",
       "      <th>past_tobacco_smoking_f1249_0_0</th>\n",
       "      <th>standing_height_f50_0_0</th>\n",
       "      <th>seated_height_f51_0_0</th>\n",
       "    </tr>\n",
       "  </thead>\n",
       "  <tbody>\n",
       "    <tr>\n",
       "      <th>0</th>\n",
       "      <td>1</td>\n",
       "      <td>65.058824</td>\n",
       "      <td>Female</td>\n",
       "      <td>0</td>\n",
       "      <td>No falls</td>\n",
       "      <td>Several days</td>\n",
       "      <td>Good</td>\n",
       "      <td>37.4</td>\n",
       "      <td>1.9</td>\n",
       "      <td>1.9</td>\n",
       "      <td>I have never smoked</td>\n",
       "      <td>167.0</td>\n",
       "      <td>139.0</td>\n",
       "    </tr>\n",
       "    <tr>\n",
       "      <th>1</th>\n",
       "      <td>2</td>\n",
       "      <td>76.470588</td>\n",
       "      <td>Male</td>\n",
       "      <td>0</td>\n",
       "      <td>Only one fall</td>\n",
       "      <td>Not at all</td>\n",
       "      <td>Good</td>\n",
       "      <td>29.1</td>\n",
       "      <td>3.6</td>\n",
       "      <td>3.6</td>\n",
       "      <td>Smoked on most or all days</td>\n",
       "      <td>167.0</td>\n",
       "      <td>140.0</td>\n",
       "    </tr>\n",
       "    <tr>\n",
       "      <th>2</th>\n",
       "      <td>3</td>\n",
       "      <td>69.764706</td>\n",
       "      <td>Male</td>\n",
       "      <td>3</td>\n",
       "      <td>No falls</td>\n",
       "      <td>Several days</td>\n",
       "      <td>Good</td>\n",
       "      <td>24.0</td>\n",
       "      <td>4.0</td>\n",
       "      <td>4.0</td>\n",
       "      <td>Smoked occasionally</td>\n",
       "      <td>182.0</td>\n",
       "      <td>144.0</td>\n",
       "    </tr>\n",
       "    <tr>\n",
       "      <th>3</th>\n",
       "      <td>4</td>\n",
       "      <td>76.470588</td>\n",
       "      <td>Male</td>\n",
       "      <td>0</td>\n",
       "      <td>No falls</td>\n",
       "      <td>Not at all</td>\n",
       "      <td>Good</td>\n",
       "      <td>27.4</td>\n",
       "      <td>2.9</td>\n",
       "      <td>2.9</td>\n",
       "      <td>I have never smoked</td>\n",
       "      <td>160.0</td>\n",
       "      <td>137.0</td>\n",
       "    </tr>\n",
       "    <tr>\n",
       "      <th>4</th>\n",
       "      <td>5</td>\n",
       "      <td>81.176471</td>\n",
       "      <td>Male</td>\n",
       "      <td>0</td>\n",
       "      <td>Only one fall</td>\n",
       "      <td>Several days</td>\n",
       "      <td>Excellent</td>\n",
       "      <td>20.0</td>\n",
       "      <td>3.3</td>\n",
       "      <td>3.3</td>\n",
       "      <td>Just tried once or twice</td>\n",
       "      <td>182.0</td>\n",
       "      <td>142.0</td>\n",
       "    </tr>\n",
       "    <tr>\n",
       "      <th>...</th>\n",
       "      <td>...</td>\n",
       "      <td>...</td>\n",
       "      <td>...</td>\n",
       "      <td>...</td>\n",
       "      <td>...</td>\n",
       "      <td>...</td>\n",
       "      <td>...</td>\n",
       "      <td>...</td>\n",
       "      <td>...</td>\n",
       "      <td>...</td>\n",
       "      <td>...</td>\n",
       "      <td>...</td>\n",
       "      <td>...</td>\n",
       "    </tr>\n",
       "    <tr>\n",
       "      <th>10269</th>\n",
       "      <td>10270</td>\n",
       "      <td>81.176471</td>\n",
       "      <td>Male</td>\n",
       "      <td>0</td>\n",
       "      <td>No falls</td>\n",
       "      <td>Not at all</td>\n",
       "      <td>Fair</td>\n",
       "      <td>30.8</td>\n",
       "      <td>3.5</td>\n",
       "      <td>3.5</td>\n",
       "      <td>Smoked on most or all days</td>\n",
       "      <td>164.0</td>\n",
       "      <td>133.0</td>\n",
       "    </tr>\n",
       "    <tr>\n",
       "      <th>10270</th>\n",
       "      <td>10271</td>\n",
       "      <td>81.176471</td>\n",
       "      <td>Female</td>\n",
       "      <td>2</td>\n",
       "      <td>No falls</td>\n",
       "      <td>Not at all</td>\n",
       "      <td>Good</td>\n",
       "      <td>36.9</td>\n",
       "      <td>2.6</td>\n",
       "      <td>2.6</td>\n",
       "      <td>I have never smoked</td>\n",
       "      <td>169.0</td>\n",
       "      <td>129.0</td>\n",
       "    </tr>\n",
       "    <tr>\n",
       "      <th>10271</th>\n",
       "      <td>10272</td>\n",
       "      <td>71.764706</td>\n",
       "      <td>Female</td>\n",
       "      <td>1</td>\n",
       "      <td>No falls</td>\n",
       "      <td>Not at all</td>\n",
       "      <td>Good</td>\n",
       "      <td>43.0</td>\n",
       "      <td>2.1</td>\n",
       "      <td>2.1</td>\n",
       "      <td>I have never smoked</td>\n",
       "      <td>158.0</td>\n",
       "      <td>124.0</td>\n",
       "    </tr>\n",
       "    <tr>\n",
       "      <th>10272</th>\n",
       "      <td>10273</td>\n",
       "      <td>85.882353</td>\n",
       "      <td>Female</td>\n",
       "      <td>0</td>\n",
       "      <td>No falls</td>\n",
       "      <td>Several days</td>\n",
       "      <td>Fair</td>\n",
       "      <td>29.4</td>\n",
       "      <td>2.4</td>\n",
       "      <td>2.4</td>\n",
       "      <td>Just tried once or twice</td>\n",
       "      <td>168.0</td>\n",
       "      <td>137.0</td>\n",
       "    </tr>\n",
       "    <tr>\n",
       "      <th>10273</th>\n",
       "      <td>10274</td>\n",
       "      <td>90.588235</td>\n",
       "      <td>Male</td>\n",
       "      <td>6</td>\n",
       "      <td>No falls</td>\n",
       "      <td>Several days</td>\n",
       "      <td>Fair</td>\n",
       "      <td>33.8</td>\n",
       "      <td>4.0</td>\n",
       "      <td>4.0</td>\n",
       "      <td>Smoked on most or all days</td>\n",
       "      <td>179.0</td>\n",
       "      <td>146.0</td>\n",
       "    </tr>\n",
       "  </tbody>\n",
       "</table>\n",
       "<p>10274 rows × 13 columns</p>\n",
       "</div>"
      ],
      "text/plain": [
       "       Unnamed: 0  DQI_score sex_f31_0_0  \\\n",
       "0               1  65.058824      Female   \n",
       "1               2  76.470588        Male   \n",
       "2               3  69.764706        Male   \n",
       "3               4  76.470588        Male   \n",
       "4               5  81.176471        Male   \n",
       "...           ...        ...         ...   \n",
       "10269       10270  81.176471        Male   \n",
       "10270       10271  81.176471      Female   \n",
       "10271       10272  71.764706      Female   \n",
       "10272       10273  85.882353      Female   \n",
       "10273       10274  90.588235        Male   \n",
       "\n",
       "       number_of_daysweek_of_vigorous_physical_activity_10_minutes_f904_0_0  \\\n",
       "0                                                      0                      \n",
       "1                                                      0                      \n",
       "2                                                      3                      \n",
       "3                                                      0                      \n",
       "4                                                      0                      \n",
       "...                                                  ...                      \n",
       "10269                                                  0                      \n",
       "10270                                                  2                      \n",
       "10271                                                  1                      \n",
       "10272                                                  0                      \n",
       "10273                                                  6                      \n",
       "\n",
       "      falls_in_the_last_year_f2296_0_0  \\\n",
       "0                             No falls   \n",
       "1                        Only one fall   \n",
       "2                             No falls   \n",
       "3                             No falls   \n",
       "4                        Only one fall   \n",
       "...                                ...   \n",
       "10269                         No falls   \n",
       "10270                         No falls   \n",
       "10271                         No falls   \n",
       "10272                         No falls   \n",
       "10273                         No falls   \n",
       "\n",
       "      frequency_of_tiredness_lethargy_in_last_2_weeks_f2080_0_0        OHR  \\\n",
       "0                                           Several days              Good   \n",
       "1                                             Not at all              Good   \n",
       "2                                           Several days              Good   \n",
       "3                                             Not at all              Good   \n",
       "4                                           Several days         Excellent   \n",
       "...                                                  ...               ...   \n",
       "10269                                         Not at all              Fair   \n",
       "10270                                         Not at all              Good   \n",
       "10271                                         Not at all              Good   \n",
       "10272                                       Several days              Fair   \n",
       "10273                                       Several days              Fair   \n",
       "\n",
       "       trunk_fat_percentage_f23127_0_0  arm_fatfree_mass_right_f23121_0_0  \\\n",
       "0                                 37.4                                1.9   \n",
       "1                                 29.1                                3.6   \n",
       "2                                 24.0                                4.0   \n",
       "3                                 27.4                                2.9   \n",
       "4                                 20.0                                3.3   \n",
       "...                                ...                                ...   \n",
       "10269                             30.8                                3.5   \n",
       "10270                             36.9                                2.6   \n",
       "10271                             43.0                                2.1   \n",
       "10272                             29.4                                2.4   \n",
       "10273                             33.8                                4.0   \n",
       "\n",
       "       arm_fatfree_mass_right_f23121_0_0.1 past_tobacco_smoking_f1249_0_0  \\\n",
       "0                                      1.9            I have never smoked   \n",
       "1                                      3.6     Smoked on most or all days   \n",
       "2                                      4.0            Smoked occasionally   \n",
       "3                                      2.9            I have never smoked   \n",
       "4                                      3.3       Just tried once or twice   \n",
       "...                                    ...                            ...   \n",
       "10269                                  3.5     Smoked on most or all days   \n",
       "10270                                  2.6            I have never smoked   \n",
       "10271                                  2.1            I have never smoked   \n",
       "10272                                  2.4       Just tried once or twice   \n",
       "10273                                  4.0     Smoked on most or all days   \n",
       "\n",
       "       standing_height_f50_0_0  seated_height_f51_0_0  \n",
       "0                        167.0                  139.0  \n",
       "1                        167.0                  140.0  \n",
       "2                        182.0                  144.0  \n",
       "3                        160.0                  137.0  \n",
       "4                        182.0                  142.0  \n",
       "...                        ...                    ...  \n",
       "10269                    164.0                  133.0  \n",
       "10270                    169.0                  129.0  \n",
       "10271                    158.0                  124.0  \n",
       "10272                    168.0                  137.0  \n",
       "10273                    179.0                  146.0  \n",
       "\n",
       "[10274 rows x 13 columns]"
      ]
     },
     "execution_count": 106,
     "metadata": {},
     "output_type": "execute_result"
    }
   ],
   "source": [
    "dataset = pd.read_csv(\"cleaned_data3.csv\")       \n",
    "df = dataset.rename(columns={'overall_health_rating_f2178_0_0': 'OHR'})\n",
    "df"
   ]
  },
  {
   "cell_type": "code",
   "execution_count": 107,
   "id": "8a5e636a",
   "metadata": {},
   "outputs": [],
   "source": [
    "t = df[\"sex_f31_0_0\"].unique()\n",
    "df.loc[df[\"sex_f31_0_0\"]==t[0],\"sex_f31_0_0\"] = 0\n",
    "df.loc[df[\"sex_f31_0_0\"]==t[1],\"sex_f31_0_0\"] = 1"
   ]
  },
  {
   "cell_type": "code",
   "execution_count": 108,
   "id": "eb595112",
   "metadata": {},
   "outputs": [],
   "source": [
    "t = df[\"falls_in_the_last_year_f2296_0_0\"].unique()\n",
    "df.loc[df[\"falls_in_the_last_year_f2296_0_0\"]==t[0],\"falls_in_the_last_year_f2296_0_0\"] = 0\n",
    "df.loc[df[\"falls_in_the_last_year_f2296_0_0\"]==t[1],\"falls_in_the_last_year_f2296_0_0\"] = 1\n",
    "df.loc[df[\"falls_in_the_last_year_f2296_0_0\"]==t[2],\"falls_in_the_last_year_f2296_0_0\"] = 2"
   ]
  },
  {
   "cell_type": "code",
   "execution_count": 109,
   "id": "8ee34d07",
   "metadata": {},
   "outputs": [],
   "source": [
    "t = [\"Poor\",\"Fair\",\"Good\",\"Excellent\"]\n",
    "df.loc[df[\"OHR\"]==\"Poor\",\"OHR\"] = 0\n",
    "df.loc[df[\"OHR\"]==\"Fair\",\"OHR\"] = 1\n",
    "df.loc[df[\"OHR\"]==\"Good\",\"OHR\"] = 2\n",
    "df.loc[df[\"OHR\"]==\"Excellent\",\"OHR\"] = 3"
   ]
  },
  {
   "cell_type": "code",
   "execution_count": 110,
   "id": "7044dd77",
   "metadata": {},
   "outputs": [],
   "source": [
    "t = df[\"frequency_of_tiredness_lethargy_in_last_2_weeks_f2080_0_0\"].unique()\n",
    "df.loc[df[\"frequency_of_tiredness_lethargy_in_last_2_weeks_f2080_0_0\"]==t[1],\"frequency_of_tiredness_lethargy_in_last_2_weeks_f2080_0_0\"] = 0\n",
    "df.loc[df[\"frequency_of_tiredness_lethargy_in_last_2_weeks_f2080_0_0\"]==t[0],\"frequency_of_tiredness_lethargy_in_last_2_weeks_f2080_0_0\"] = 1\n",
    "df.loc[df[\"frequency_of_tiredness_lethargy_in_last_2_weeks_f2080_0_0\"]==t[2],\"frequency_of_tiredness_lethargy_in_last_2_weeks_f2080_0_0\"] = 2\n",
    "df.loc[df[\"frequency_of_tiredness_lethargy_in_last_2_weeks_f2080_0_0\"]==t[3],\"frequency_of_tiredness_lethargy_in_last_2_weeks_f2080_0_0\"] = 3"
   ]
  },
  {
   "cell_type": "code",
   "execution_count": 111,
   "id": "cd7f7640",
   "metadata": {},
   "outputs": [],
   "source": [
    "t = df[\"past_tobacco_smoking_f1249_0_0\"].unique()\n",
    "df.loc[df[\"past_tobacco_smoking_f1249_0_0\"]==t[0],\"past_tobacco_smoking_f1249_0_0\"] = 0\n",
    "df.loc[df[\"past_tobacco_smoking_f1249_0_0\"]==t[3],\"past_tobacco_smoking_f1249_0_0\"] = 1\n",
    "df.loc[df[\"past_tobacco_smoking_f1249_0_0\"]==t[2],\"past_tobacco_smoking_f1249_0_0\"] = 2\n",
    "df.loc[df[\"past_tobacco_smoking_f1249_0_0\"]==t[1],\"past_tobacco_smoking_f1249_0_0\"] = 3"
   ]
  },
  {
   "cell_type": "code",
   "execution_count": 112,
   "id": "e4e54c0b",
   "metadata": {},
   "outputs": [
    {
     "data": {
      "text/html": [
       "<div>\n",
       "<style scoped>\n",
       "    .dataframe tbody tr th:only-of-type {\n",
       "        vertical-align: middle;\n",
       "    }\n",
       "\n",
       "    .dataframe tbody tr th {\n",
       "        vertical-align: top;\n",
       "    }\n",
       "\n",
       "    .dataframe thead th {\n",
       "        text-align: right;\n",
       "    }\n",
       "</style>\n",
       "<table border=\"1\" class=\"dataframe\">\n",
       "  <thead>\n",
       "    <tr style=\"text-align: right;\">\n",
       "      <th></th>\n",
       "      <th>DQI_score</th>\n",
       "      <th>sex_f31_0_0</th>\n",
       "      <th>number_of_daysweek_of_vigorous_physical_activity_10_minutes_f904_0_0</th>\n",
       "      <th>falls_in_the_last_year_f2296_0_0</th>\n",
       "      <th>frequency_of_tiredness_lethargy_in_last_2_weeks_f2080_0_0</th>\n",
       "      <th>OHR</th>\n",
       "      <th>trunk_fat_percentage_f23127_0_0</th>\n",
       "      <th>arm_fatfree_mass_right_f23121_0_0</th>\n",
       "      <th>arm_fatfree_mass_right_f23121_0_0.1</th>\n",
       "      <th>past_tobacco_smoking_f1249_0_0</th>\n",
       "      <th>standing_height_f50_0_0</th>\n",
       "      <th>seated_height_f51_0_0</th>\n",
       "    </tr>\n",
       "  </thead>\n",
       "  <tbody>\n",
       "    <tr>\n",
       "      <th>0</th>\n",
       "      <td>65.058824</td>\n",
       "      <td>0</td>\n",
       "      <td>0</td>\n",
       "      <td>0</td>\n",
       "      <td>1</td>\n",
       "      <td>2</td>\n",
       "      <td>37.4</td>\n",
       "      <td>1.9</td>\n",
       "      <td>1.9</td>\n",
       "      <td>0</td>\n",
       "      <td>167.0</td>\n",
       "      <td>139.0</td>\n",
       "    </tr>\n",
       "    <tr>\n",
       "      <th>1</th>\n",
       "      <td>76.470588</td>\n",
       "      <td>1</td>\n",
       "      <td>0</td>\n",
       "      <td>1</td>\n",
       "      <td>0</td>\n",
       "      <td>2</td>\n",
       "      <td>29.1</td>\n",
       "      <td>3.6</td>\n",
       "      <td>3.6</td>\n",
       "      <td>3</td>\n",
       "      <td>167.0</td>\n",
       "      <td>140.0</td>\n",
       "    </tr>\n",
       "    <tr>\n",
       "      <th>2</th>\n",
       "      <td>69.764706</td>\n",
       "      <td>1</td>\n",
       "      <td>3</td>\n",
       "      <td>0</td>\n",
       "      <td>1</td>\n",
       "      <td>2</td>\n",
       "      <td>24.0</td>\n",
       "      <td>4.0</td>\n",
       "      <td>4.0</td>\n",
       "      <td>2</td>\n",
       "      <td>182.0</td>\n",
       "      <td>144.0</td>\n",
       "    </tr>\n",
       "    <tr>\n",
       "      <th>3</th>\n",
       "      <td>76.470588</td>\n",
       "      <td>1</td>\n",
       "      <td>0</td>\n",
       "      <td>0</td>\n",
       "      <td>0</td>\n",
       "      <td>2</td>\n",
       "      <td>27.4</td>\n",
       "      <td>2.9</td>\n",
       "      <td>2.9</td>\n",
       "      <td>0</td>\n",
       "      <td>160.0</td>\n",
       "      <td>137.0</td>\n",
       "    </tr>\n",
       "    <tr>\n",
       "      <th>4</th>\n",
       "      <td>81.176471</td>\n",
       "      <td>1</td>\n",
       "      <td>0</td>\n",
       "      <td>1</td>\n",
       "      <td>1</td>\n",
       "      <td>3</td>\n",
       "      <td>20.0</td>\n",
       "      <td>3.3</td>\n",
       "      <td>3.3</td>\n",
       "      <td>1</td>\n",
       "      <td>182.0</td>\n",
       "      <td>142.0</td>\n",
       "    </tr>\n",
       "    <tr>\n",
       "      <th>...</th>\n",
       "      <td>...</td>\n",
       "      <td>...</td>\n",
       "      <td>...</td>\n",
       "      <td>...</td>\n",
       "      <td>...</td>\n",
       "      <td>...</td>\n",
       "      <td>...</td>\n",
       "      <td>...</td>\n",
       "      <td>...</td>\n",
       "      <td>...</td>\n",
       "      <td>...</td>\n",
       "      <td>...</td>\n",
       "    </tr>\n",
       "    <tr>\n",
       "      <th>10269</th>\n",
       "      <td>81.176471</td>\n",
       "      <td>1</td>\n",
       "      <td>0</td>\n",
       "      <td>0</td>\n",
       "      <td>0</td>\n",
       "      <td>1</td>\n",
       "      <td>30.8</td>\n",
       "      <td>3.5</td>\n",
       "      <td>3.5</td>\n",
       "      <td>3</td>\n",
       "      <td>164.0</td>\n",
       "      <td>133.0</td>\n",
       "    </tr>\n",
       "    <tr>\n",
       "      <th>10270</th>\n",
       "      <td>81.176471</td>\n",
       "      <td>0</td>\n",
       "      <td>2</td>\n",
       "      <td>0</td>\n",
       "      <td>0</td>\n",
       "      <td>2</td>\n",
       "      <td>36.9</td>\n",
       "      <td>2.6</td>\n",
       "      <td>2.6</td>\n",
       "      <td>0</td>\n",
       "      <td>169.0</td>\n",
       "      <td>129.0</td>\n",
       "    </tr>\n",
       "    <tr>\n",
       "      <th>10271</th>\n",
       "      <td>71.764706</td>\n",
       "      <td>0</td>\n",
       "      <td>1</td>\n",
       "      <td>0</td>\n",
       "      <td>0</td>\n",
       "      <td>2</td>\n",
       "      <td>43.0</td>\n",
       "      <td>2.1</td>\n",
       "      <td>2.1</td>\n",
       "      <td>0</td>\n",
       "      <td>158.0</td>\n",
       "      <td>124.0</td>\n",
       "    </tr>\n",
       "    <tr>\n",
       "      <th>10272</th>\n",
       "      <td>85.882353</td>\n",
       "      <td>0</td>\n",
       "      <td>0</td>\n",
       "      <td>0</td>\n",
       "      <td>1</td>\n",
       "      <td>1</td>\n",
       "      <td>29.4</td>\n",
       "      <td>2.4</td>\n",
       "      <td>2.4</td>\n",
       "      <td>1</td>\n",
       "      <td>168.0</td>\n",
       "      <td>137.0</td>\n",
       "    </tr>\n",
       "    <tr>\n",
       "      <th>10273</th>\n",
       "      <td>90.588235</td>\n",
       "      <td>1</td>\n",
       "      <td>6</td>\n",
       "      <td>0</td>\n",
       "      <td>1</td>\n",
       "      <td>1</td>\n",
       "      <td>33.8</td>\n",
       "      <td>4.0</td>\n",
       "      <td>4.0</td>\n",
       "      <td>3</td>\n",
       "      <td>179.0</td>\n",
       "      <td>146.0</td>\n",
       "    </tr>\n",
       "  </tbody>\n",
       "</table>\n",
       "<p>10274 rows × 12 columns</p>\n",
       "</div>"
      ],
      "text/plain": [
       "       DQI_score sex_f31_0_0  \\\n",
       "0      65.058824           0   \n",
       "1      76.470588           1   \n",
       "2      69.764706           1   \n",
       "3      76.470588           1   \n",
       "4      81.176471           1   \n",
       "...          ...         ...   \n",
       "10269  81.176471           1   \n",
       "10270  81.176471           0   \n",
       "10271  71.764706           0   \n",
       "10272  85.882353           0   \n",
       "10273  90.588235           1   \n",
       "\n",
       "       number_of_daysweek_of_vigorous_physical_activity_10_minutes_f904_0_0  \\\n",
       "0                                                      0                      \n",
       "1                                                      0                      \n",
       "2                                                      3                      \n",
       "3                                                      0                      \n",
       "4                                                      0                      \n",
       "...                                                  ...                      \n",
       "10269                                                  0                      \n",
       "10270                                                  2                      \n",
       "10271                                                  1                      \n",
       "10272                                                  0                      \n",
       "10273                                                  6                      \n",
       "\n",
       "      falls_in_the_last_year_f2296_0_0  \\\n",
       "0                                    0   \n",
       "1                                    1   \n",
       "2                                    0   \n",
       "3                                    0   \n",
       "4                                    1   \n",
       "...                                ...   \n",
       "10269                                0   \n",
       "10270                                0   \n",
       "10271                                0   \n",
       "10272                                0   \n",
       "10273                                0   \n",
       "\n",
       "      frequency_of_tiredness_lethargy_in_last_2_weeks_f2080_0_0 OHR  \\\n",
       "0                                                      1          2   \n",
       "1                                                      0          2   \n",
       "2                                                      1          2   \n",
       "3                                                      0          2   \n",
       "4                                                      1          3   \n",
       "...                                                  ...         ..   \n",
       "10269                                                  0          1   \n",
       "10270                                                  0          2   \n",
       "10271                                                  0          2   \n",
       "10272                                                  1          1   \n",
       "10273                                                  1          1   \n",
       "\n",
       "       trunk_fat_percentage_f23127_0_0  arm_fatfree_mass_right_f23121_0_0  \\\n",
       "0                                 37.4                                1.9   \n",
       "1                                 29.1                                3.6   \n",
       "2                                 24.0                                4.0   \n",
       "3                                 27.4                                2.9   \n",
       "4                                 20.0                                3.3   \n",
       "...                                ...                                ...   \n",
       "10269                             30.8                                3.5   \n",
       "10270                             36.9                                2.6   \n",
       "10271                             43.0                                2.1   \n",
       "10272                             29.4                                2.4   \n",
       "10273                             33.8                                4.0   \n",
       "\n",
       "       arm_fatfree_mass_right_f23121_0_0.1 past_tobacco_smoking_f1249_0_0  \\\n",
       "0                                      1.9                              0   \n",
       "1                                      3.6                              3   \n",
       "2                                      4.0                              2   \n",
       "3                                      2.9                              0   \n",
       "4                                      3.3                              1   \n",
       "...                                    ...                            ...   \n",
       "10269                                  3.5                              3   \n",
       "10270                                  2.6                              0   \n",
       "10271                                  2.1                              0   \n",
       "10272                                  2.4                              1   \n",
       "10273                                  4.0                              3   \n",
       "\n",
       "       standing_height_f50_0_0  seated_height_f51_0_0  \n",
       "0                        167.0                  139.0  \n",
       "1                        167.0                  140.0  \n",
       "2                        182.0                  144.0  \n",
       "3                        160.0                  137.0  \n",
       "4                        182.0                  142.0  \n",
       "...                        ...                    ...  \n",
       "10269                    164.0                  133.0  \n",
       "10270                    169.0                  129.0  \n",
       "10271                    158.0                  124.0  \n",
       "10272                    168.0                  137.0  \n",
       "10273                    179.0                  146.0  \n",
       "\n",
       "[10274 rows x 12 columns]"
      ]
     },
     "execution_count": 112,
     "metadata": {},
     "output_type": "execute_result"
    }
   ],
   "source": [
    "df = df.drop(df.columns[[0]], axis=1)\n",
    "df"
   ]
  },
  {
   "cell_type": "code",
   "execution_count": 113,
   "id": "c453dbb8",
   "metadata": {},
   "outputs": [],
   "source": [
    "X = df.drop(df.columns[[5]], axis=1)\n",
    "y = df.iloc[:,5]\n",
    "y=y.astype('int')"
   ]
  },
  {
   "cell_type": "code",
   "execution_count": 285,
   "id": "e0aa45ea",
   "metadata": {},
   "outputs": [
    {
     "data": {
      "text/plain": [
       "<AxesSubplot:xlabel='DQI_score', ylabel='Count'>"
      ]
     },
     "execution_count": 285,
     "metadata": {},
     "output_type": "execute_result"
    },
    {
     "data": {
      "image/png": "[encoded data removed]",
      "text/plain": [
       "<Figure size 432x288 with 1 Axes>"
      ]
     },
     "metadata": {
      "needs_background": "light"
     },
     "output_type": "display_data"
    }
   ],
   "source": [
    "import seaborn as sns\n",
    "sns.histplot(df['DQI_score'])"
   ]
  },
  {
   "cell_type": "code",
   "execution_count": 286,
   "id": "6aa19145",
   "metadata": {},
   "outputs": [
    {
     "data": {
      "text/plain": [
       "<AxesSubplot:xlabel='OHR', ylabel='count'>"
      ]
     },
     "execution_count": 286,
     "metadata": {},
     "output_type": "execute_result"
    },
    {
     "data": {
      "image/png": "[encoded data removed]",
      "text/plain": [
       "<Figure size 432x288 with 1 Axes>"
      ]
     },
     "metadata": {
      "needs_background": "light"
     },
     "output_type": "display_data"
    }
   ],
   "source": [
    "sns.countplot(df['OHR'])"
   ]
  },
  {
   "cell_type": "markdown",
   "id": "1f7c23ea",
   "metadata": {},
   "source": [
    "### NearMiss Undersampling"
   ]
  },
  {
   "cell_type": "code",
   "execution_count": 115,
   "id": "220c81aa",
   "metadata": {
    "scrolled": true
   },
   "outputs": [
    {
     "name": "stdout",
     "output_type": "stream",
     "text": [
      "Requirement already satisfied: imblearn in /Users/lizsul/opt/anaconda3/lib/python3.8/site-packages (0.0)\n",
      "Requirement already satisfied: imbalanced-learn in /Users/lizsul/opt/anaconda3/lib/python3.8/site-packages (from imblearn) (0.10.1)\n",
      "Requirement already satisfied: scikit-learn>=1.0.2 in /Users/lizsul/opt/anaconda3/lib/python3.8/site-packages (from imbalanced-learn->imblearn) (1.2.2)\n",
      "Requirement already satisfied: scipy>=1.3.2 in /Users/lizsul/opt/anaconda3/lib/python3.8/site-packages (from imbalanced-learn->imblearn) (1.7.3)\n",
      "Requirement already satisfied: joblib>=1.1.1 in /Users/lizsul/opt/anaconda3/lib/python3.8/site-packages (from imbalanced-learn->imblearn) (1.2.0)\n",
      "Requirement already satisfied: threadpoolctl>=2.0.0 in /Users/lizsul/opt/anaconda3/lib/python3.8/site-packages (from imbalanced-learn->imblearn) (2.2.0)\n",
      "Requirement already satisfied: numpy>=1.17.3 in /Users/lizsul/opt/anaconda3/lib/python3.8/site-packages (from imbalanced-learn->imblearn) (1.19.5)\n"
     ]
    }
   ],
   "source": [
    "!pip install imblearn"
   ]
  },
  {
   "cell_type": "code",
   "execution_count": 144,
   "id": "2ee63870",
   "metadata": {},
   "outputs": [
    {
     "data": {
      "text/plain": [
       "dict"
      ]
     },
     "execution_count": 144,
     "metadata": {},
     "output_type": "execute_result"
    }
   ],
   "source": [
    "ratio = {0:200, 1:400, 2:400, 3:200}\n",
    "type(ratio)"
   ]
  },
  {
   "cell_type": "code",
   "execution_count": 148,
   "id": "dfcb4bd1",
   "metadata": {
    "scrolled": true
   },
   "outputs": [],
   "source": [
    "from imblearn.under_sampling import NearMiss\n",
    "undersample = NearMiss(version=1, n_neighbors=3)\n",
    "X, y = undersample.fit_resample(X, y)"
   ]
  },
  {
   "cell_type": "code",
   "execution_count": 354,
   "id": "cc5b4164",
   "metadata": {},
   "outputs": [
    {
     "data": {
      "text/plain": [
       "656"
      ]
     },
     "execution_count": 354,
     "metadata": {},
     "output_type": "execute_result"
    }
   ],
   "source": [
    "len(X)"
   ]
  },
  {
   "cell_type": "code",
   "execution_count": 356,
   "id": "7a29a26f",
   "metadata": {
    "scrolled": true
   },
   "outputs": [
    {
     "data": {
      "text/plain": [
       "<AxesSubplot:xlabel='OHR', ylabel='count'>"
      ]
     },
     "execution_count": 356,
     "metadata": {},
     "output_type": "execute_result"
    },
    {
     "data": {
      "image/png": "[encoded data removed]",
      "text/plain": [
       "<Figure size 432x288 with 1 Axes>"
      ]
     },
     "metadata": {
      "needs_background": "light"
     },
     "output_type": "display_data"
    }
   ],
   "source": [
    "sns.countplot(y)"
   ]
  },
  {
   "cell_type": "markdown",
   "id": "e5265bf9",
   "metadata": {},
   "source": [
    "### Random Forest"
   ]
  },
  {
   "cell_type": "code",
   "execution_count": 323,
   "id": "bf3e9359",
   "metadata": {},
   "outputs": [],
   "source": [
    "from sklearn.ensemble import RandomForestClassifier\n",
    "from sklearn.model_selection import train_test_split\n",
    "from sklearn import metrics\n",
    "from sklearn.model_selection import KFold\n",
    "from sklearn.model_selection import cross_val_score\n",
    "from sklearn.model_selection import GridSearchCV\n",
    "from scipy.stats import norm\n",
    "from sklearn.linear_model import LogisticRegression\n",
    "\n",
    "X_train, X_test, y_train, y_test = train_test_split(X, y, random_state=0, train_size = .70, stratify=y)"
   ]
  },
  {
   "cell_type": "code",
   "execution_count": 327,
   "id": "a0251f2f",
   "metadata": {},
   "outputs": [
    {
     "name": "stdout",
     "output_type": "stream",
     "text": [
      "Fitting 5 folds for each of 60 candidates, totalling 300 fits\n"
     ]
    },
    {
     "data": {
      "text/plain": [
       "{'criterion': 'entropy',\n",
       " 'max_depth': 6,\n",
       " 'max_features': 'log2',\n",
       " 'n_estimators': 200}"
      ]
     },
     "execution_count": 327,
     "metadata": {},
     "output_type": "execute_result"
    }
   ],
   "source": [
    "rfc=RandomForestClassifier()\n",
    "\n",
    "param_grid = { \n",
    "    'n_estimators': [200, 500],\n",
    "    'max_features': ['auto', 'sqrt', 'log2'],\n",
    "    'max_depth' : [4,5,6,7,8],\n",
    "    'criterion' :['gini', 'entropy']\n",
    "}\n",
    "\n",
    "\n",
    "gs_rfc = GridSearchCV(estimator=rfc, param_grid=param_grid, cv= 5, scoring='accuracy',verbose=1)\n",
    "gs_rfc.fit(X_train,y_train)\n",
    "#gs_rfc.fit(X,y)\n",
    "gs_rfc.best_params_"
   ]
  },
  {
   "cell_type": "code",
   "execution_count": 332,
   "id": "0d9c682c",
   "metadata": {},
   "outputs": [],
   "source": [
    "best_rfc = RandomForestClassifier(n_estimators = 500,max_features='log2', max_depth = 6 , criterion = 'entropy')\n",
    "\n",
    "rfc = best_rfc.fit(X_train,y_train)\n",
    "\n",
    "y_test_pred = rfc.predict(X_test)\n",
    "\n",
    "ls_test_labels = [\"Poor\",\"Fair\",\"Good\",\"Excellent\"]\n",
    "label_dict = {\"Poor\":0, \"Fair\":1, \"Good\":2, \"Excellent\":3}\n",
    "rev_subs = { v:k for k,v in label_dict.items()}\n",
    "y_test_pred = [rev_subs.get(item,item)  for item in y_test_pred]\n",
    "y_test_labels = [rev_subs.get(item,item)  for item in y_test]"
   ]
  },
  {
   "cell_type": "code",
   "execution_count": 333,
   "id": "6921528c",
   "metadata": {},
   "outputs": [
    {
     "data": {
      "image/png": "[encoded data removed]",
      "text/plain": [
       "<Figure size 576x576 with 2 Axes>"
      ]
     },
     "metadata": {
      "needs_background": "light"
     },
     "output_type": "display_data"
    },
    {
     "name": "stdout",
     "output_type": "stream",
     "text": [
      "              precision    recall  f1-score   support\n",
      "\n",
      "        Poor       0.66      0.70      0.68        50\n",
      "        Fair       0.39      0.53      0.45        49\n",
      "        Good       0.29      0.18      0.23        49\n",
      "   Excellent       0.60      0.57      0.58        49\n",
      "\n",
      "    accuracy                           0.50       197\n",
      "   macro avg       0.49      0.50      0.49       197\n",
      "weighted avg       0.49      0.50      0.49       197\n",
      "\n"
     ]
    }
   ],
   "source": [
    "from sklearn.metrics import accuracy_score, confusion_matrix, classification_report\n",
    "import matplotlib.pyplot as plt\n",
    "\n",
    "\n",
    "\n",
    "cm = confusion_matrix(y_test_labels, y_test_pred)\n",
    "labels = label_dict.keys()\n",
    "\n",
    "fig = plt.figure(figsize=(8,8))\n",
    "ax= fig.add_subplot(1,1,1)\n",
    "sns.heatmap(cm, annot=True, cmap=\"Greens\",ax = ax,fmt='g'); #annot=True to annotate cells\n",
    "\n",
    "# labels, title and ticks\n",
    "ax.set_xlabel('Predicted labels');ax.set_ylabel('True labels'); \n",
    "ax.set_title('Confusion Matrix'); \n",
    "ax.xaxis.set_ticklabels(labels); ax.yaxis.set_ticklabels(labels);\n",
    "plt.setp(ax.get_yticklabels(), rotation=30, horizontalalignment='right')\n",
    "plt.setp(ax.get_xticklabels(), rotation=30, horizontalalignment='right')     \n",
    "plt.show()\n",
    "print(classification_report(list(y_test_labels),list(y_test_pred),labels=list(labels)))"
   ]
  },
  {
   "cell_type": "markdown",
   "id": "5f910cde",
   "metadata": {},
   "source": [
    "### CATE and ATE"
   ]
  },
  {
   "cell_type": "code",
   "execution_count": 384,
   "id": "5cea0b35",
   "metadata": {},
   "outputs": [],
   "source": [
    "test = pd.concat([X_test,y_test],axis=1)"
   ]
  },
  {
   "cell_type": "code",
   "execution_count": 338,
   "id": "654df425",
   "metadata": {},
   "outputs": [
    {
     "data": {
      "text/plain": [
       "81"
      ]
     },
     "execution_count": 338,
     "metadata": {},
     "output_type": "execute_result"
    }
   ],
   "source": [
    "from scipy import stats as st\n",
    "m = st.mode(X[\"DQI_score\"])\n",
    "int(m[0])"
   ]
  },
  {
   "cell_type": "code",
   "execution_count": 398,
   "id": "e0fdaa04",
   "metadata": {},
   "outputs": [
    {
     "data": {
      "text/plain": [
       "64.0588235294118"
      ]
     },
     "execution_count": 398,
     "metadata": {},
     "output_type": "execute_result"
    }
   ],
   "source": [
    "np.percentile(test[\"DQI_score\"],5)"
   ]
  },
  {
   "cell_type": "code",
   "execution_count": 399,
   "id": "8bb0dd40",
   "metadata": {},
   "outputs": [
    {
     "data": {
      "text/plain": [
       "81.1764705882353"
      ]
     },
     "execution_count": 399,
     "metadata": {},
     "output_type": "execute_result"
    }
   ],
   "source": [
    "np.median(test[\"DQI_score\"])"
   ]
  },
  {
   "cell_type": "code",
   "execution_count": 430,
   "id": "c13b8308",
   "metadata": {},
   "outputs": [],
   "source": [
    "X_max = X_test.copy()\n",
    "X_max.loc[:,\"DQI_score\"] = np.percentile(df[\"DQI_score\"],97.5)\n",
    "X_min = X_test.copy()\n",
    "X_min.loc[:,\"DQI_score\"] = np.percentile(df[\"DQI_score\"],2.5)\n",
    "X_mid = X_test.copy()\n",
    "X_mid.loc[:,\"DQI_score\"] = np.median(df[\"DQI_score\"])"
   ]
  },
  {
   "cell_type": "code",
   "execution_count": 406,
   "id": "9af32912",
   "metadata": {},
   "outputs": [],
   "source": [
    "X_max = X_test.copy()\n",
    "X_max.loc[:,\"DQI_score\"] = 100\n",
    "X_min = X_test.copy()\n",
    "X_min.loc[:,\"DQI_score\"] = 0\n",
    "X_mid = X_test.copy()\n",
    "X_mid.loc[:,\"DQI_score\"] = np.median(df[\"DQI_score\"])"
   ]
  },
  {
   "cell_type": "code",
   "execution_count": 431,
   "id": "a6c183d2",
   "metadata": {},
   "outputs": [],
   "source": [
    "H_max = rfc.predict(X_max)\n",
    "H_min = rfc.predict(X_min)\n",
    "H_mid = rfc.predict(X_mid)"
   ]
  },
  {
   "cell_type": "code",
   "execution_count": 432,
   "id": "d63758f1",
   "metadata": {},
   "outputs": [
    {
     "data": {
      "text/plain": [
       "(0.005076142131979695, 0.5888324873096447, 0.19796954314720813)"
      ]
     },
     "execution_count": 432,
     "metadata": {},
     "output_type": "execute_result"
    }
   ],
   "source": [
    "pct1 = sum(H_max - H_mid >= 1) / len(X_max)\n",
    "pct2 = sum(H_mid - H_min >= 1) / len(X_max) \n",
    "pct3 = sum(H_max - H_min >= 2) / len(X_max) \n",
    "pct1, pct2, pct3"
   ]
  },
  {
   "cell_type": "code",
   "execution_count": 433,
   "id": "aaa1d9db",
   "metadata": {},
   "outputs": [],
   "source": [
    "median_0 = np.median(test.loc[test[\"OHR\"]==0,\"DQI_score\"])\n",
    "median_1 = np.median(test.loc[test[\"OHR\"]==1,\"DQI_score\"])\n",
    "median_2 = np.median(test.loc[test[\"OHR\"]==2,\"DQI_score\"])\n",
    "median_3 = np.median(test.loc[test[\"OHR\"]==3,\"DQI_score\"])"
   ]
  },
  {
   "cell_type": "code",
   "execution_count": 434,
   "id": "28ac40a7",
   "metadata": {},
   "outputs": [
    {
     "data": {
      "text/plain": [
       "<AxesSubplot:xlabel='DQI_score', ylabel='Count'>"
      ]
     },
     "execution_count": 434,
     "metadata": {},
     "output_type": "execute_result"
    },
    {
     "data": {
      "image/png": "[encoded data removed]",
      "text/plain": [
       "<Figure size 864x576 with 1 Axes>"
      ]
     },
     "metadata": {},
     "output_type": "display_data"
    }
   ],
   "source": [
    "sns.set(rc = {\"figure.figsize\":(12,8)})\n",
    "palette = iter(sns.husl_palette(4))\n",
    "sns.histplot(data = test,x = \"DQI_score\", hue = \"OHR\",element=\"poly\",palette=[\"C0\",\"C1\",\"C2\",\"k\"])"
   ]
  },
  {
   "cell_type": "code",
   "execution_count": 435,
   "id": "cc2674a7",
   "metadata": {},
   "outputs": [
    {
     "data": {
      "text/plain": [
       "(77.3235294117647, 76.4705882352941, 81.1764705882353, 81.1764705882353)"
      ]
     },
     "execution_count": 435,
     "metadata": {},
     "output_type": "execute_result"
    }
   ],
   "source": [
    "median_0, median_1, median_2, median_3"
   ]
  },
  {
   "cell_type": "code",
   "execution_count": 436,
   "id": "ab80999b",
   "metadata": {},
   "outputs": [],
   "source": [
    "X_median_0 = X_test.copy()\n",
    "X_median_0.loc[:,\"DQI_score\"] = median_0\n",
    "X_median_1 = X_test.copy()\n",
    "X_median_1.loc[:,\"DQI_score\"] = median_1\n",
    "X_median_2 = X_test.copy()\n",
    "X_median_2.loc[:,\"DQI_score\"] = median_2\n",
    "X_median_3 = X_test.copy()\n",
    "X_median_3.loc[:,\"DQI_score\"] = median_3"
   ]
  },
  {
   "cell_type": "code",
   "execution_count": 437,
   "id": "1989edf0",
   "metadata": {},
   "outputs": [
    {
     "data": {
      "text/plain": [
       "(0.0, 0.02030456852791878, 0.0)"
      ]
     },
     "execution_count": 437,
     "metadata": {},
     "output_type": "execute_result"
    }
   ],
   "source": [
    "H_median_0 = rfc.predict(X_median_0)\n",
    "H_median_1 = rfc.predict(X_median_1)\n",
    "H_median_2 = rfc.predict(X_median_2)\n",
    "H_median_3 = rfc.predict(X_median_3)\n",
    "\n",
    "pct_01 = sum(H_median_1 - H_median_0 >= 1) / len(X_test)\n",
    "pct_12 = sum(H_median_2 - H_median_1 >= 1) / len(X_test)\n",
    "pct_23 = sum(H_median_3 - H_median_2 >= 1) / len(X_test)\n",
    "pct_01, pct_12, pct_23"
   ]
  },
  {
   "cell_type": "code",
   "execution_count": 438,
   "id": "44b140e0",
   "metadata": {},
   "outputs": [
    {
     "data": {
      "text/plain": [
       "(-0.15736040609137056,\n",
       " 0.9390862944162437,\n",
       " 0.7817258883248731,\n",
       " 0.0,\n",
       " 0.025380710659898477,\n",
       " 0.0)"
      ]
     },
     "execution_count": 438,
     "metadata": {},
     "output_type": "execute_result"
    }
   ],
   "source": [
    "ATE_1 = np.mean(H_max - H_mid)\n",
    "ATE_2 = np.mean(H_mid - H_min)\n",
    "ATE_3 = np.mean(H_max - H_min)\n",
    "ATE_01 = np.mean(H_median_1 - H_median_0)\n",
    "ATE_12 = np.mean(H_median_2 - H_median_1)\n",
    "ATE_23 = np.mean(H_median_3 - H_median_2)\n",
    "\n",
    "ATE_1,ATE_2,ATE_3, ATE_01, ATE_12, ATE_23"
   ]
  },
  {
   "cell_type": "markdown",
   "id": "f1537f5f",
   "metadata": {},
   "source": [
    "confusion matrix\n",
    "\n",
    "histplot\n",
    "\n",
    "median to max not significant"
   ]
  }
 ],
 "metadata": {
  "kernelspec": {
   "display_name": "Python 3 (ipykernel)",
   "language": "python",
   "name": "python3"
  },
  "language_info": {
   "codemirror_mode": {
    "name": "ipython",
    "version": 3
   },
   "file_extension": ".py",
   "mimetype": "text/x-python",
   "name": "python",
   "nbconvert_exporter": "python",
   "pygments_lexer": "ipython3",
   "version": "3.8.12"
  }
 },
 "nbformat": 4,
 "nbformat_minor": 5
}
